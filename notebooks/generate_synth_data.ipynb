{
 "cells": [
  {
   "cell_type": "markdown",
   "id": "8bc32670-d4b0-4e39-83ba-339dd7546a97",
   "metadata": {},
   "source": [
    "# Generate Synthetic Data\n",
    "\n",
    "This notebook generates synthetic data in the same shape as the groundwater data from [https://doi.org/10.25919/skw8-yx65](https://doi.org/10.25919/skw8-yx65)."
   ]
  },
  {
   "cell_type": "code",
   "execution_count": 1,
   "id": "83806ff7-64c8-4009-9298-c19d0f943625",
   "metadata": {},
   "outputs": [],
   "source": [
    "import os\n",
    "import glob\n",
    "import numpy as np"
   ]
  },
  {
   "cell_type": "code",
   "execution_count": 2,
   "id": "05a8a3d0-e9a0-4244-83a5-043278b6de2a",
   "metadata": {},
   "outputs": [],
   "source": [
    "import rpy2.robjects as robjects\n",
    "readRDS = robjects.r['readRDS']"
   ]
  },
  {
   "cell_type": "code",
   "execution_count": 3,
   "id": "b0cc9a71-4222-4161-afc2-a8a0bc4d0005",
   "metadata": {},
   "outputs": [],
   "source": [
    "parameter_list = ['GW_depth', 'coordinates_scaled', 'year_scaled', 'DEM_scaled', 'precip_scaled', 'PET_scaled']\n",
    "sizes_dict = dict.fromkeys(parameter_list)"
   ]
  },
  {
   "cell_type": "markdown",
   "id": "c05a2ff8-7e91-449d-a41c-a6761632e408",
   "metadata": {},
   "source": [
    "**WARNING**: Do not re-run the following cell unless you have access to the orignal groundwater dataset"
   ]
  },
  {
   "cell_type": "code",
   "execution_count": 4,
   "id": "1fc478de-af65-4602-9d1d-17be4ef67a1a",
   "metadata": {},
   "outputs": [],
   "source": [
    "RDS_path = os.path.join('..', '..', 'RDSdata', 'train')\n",
    "for param in parameter_list:\n",
    "    file = param + '_train'\n",
    "    rds_file = readRDS(os.path.join(RDS_path, file)+'.rds')\n",
    "    sizes_dict[param] = np.shape(rds_file)"
   ]
  },
  {
   "cell_type": "code",
   "execution_count": 5,
   "id": "e47734c3-e956-497d-adcc-89e1d12c1cb5",
   "metadata": {},
   "outputs": [
    {
     "data": {
      "text/plain": [
       "{'GW_depth': (310143,),\n",
       " 'coordinates_scaled': (310143, 2),\n",
       " 'year_scaled': (310143, 1),\n",
       " 'DEM_scaled': (310143, 1, 9, 9),\n",
       " 'precip_scaled': (310143, 12, 9, 9),\n",
       " 'PET_scaled': (310143, 12, 9, 9)}"
      ]
     },
     "execution_count": 5,
     "metadata": {},
     "output_type": "execute_result"
    }
   ],
   "source": [
    "sizes_dict"
   ]
  },
  {
   "cell_type": "code",
   "execution_count": 6,
   "id": "84c3af44-6aec-43dc-ba24-2453d3e2b943",
   "metadata": {},
   "outputs": [],
   "source": [
    "data_dir = os.path.join('..', 'synthetic_data')\n",
    "subdirs = ['train', 'tune', 'test']"
   ]
  },
  {
   "cell_type": "markdown",
   "id": "e1a7b4e6-1c15-47e2-bb08-43f5cd8a6def",
   "metadata": {},
   "source": [
    "The following cell determines how many synthetic data points to generate in each category (train, tune, test)."
   ]
  },
  {
   "cell_type": "code",
   "execution_count": 7,
   "id": "44e4b431-1291-486b-8133-a0b141e7f863",
   "metadata": {},
   "outputs": [],
   "source": [
    "n_data = {'train': 100,\n",
    "          'tune': 50,\n",
    "          'test': 50}"
   ]
  },
  {
   "cell_type": "code",
   "execution_count": 8,
   "id": "422af3fb-3c3c-4134-9cb2-c6ebf9fa7f0c",
   "metadata": {},
   "outputs": [],
   "source": [
    "def flatten_tuple(data):\n",
    "    if isinstance(data, tuple):\n",
    "        if len(data) == 0:\n",
    "            return ()\n",
    "        else:\n",
    "            return flatten_tuple(data[0]) + flatten_tuple(data[1:])\n",
    "    else:\n",
    "        return (data,)"
   ]
  },
  {
   "cell_type": "code",
   "execution_count": 9,
   "id": "47b75109-129a-4e24-bd69-e28e58b4ba3e",
   "metadata": {},
   "outputs": [
    {
     "name": "stdout",
     "output_type": "stream",
     "text": [
      "Generating synthetic GW_depth data ...\n",
      "Saved GW_depth train data.\n",
      "Saved GW_depth tune data.\n",
      "Saved GW_depth test data.\n",
      "Generating synthetic coordinates_scaled data ...\n",
      "Saved coordinates_scaled train data.\n",
      "Saved coordinates_scaled tune data.\n",
      "Saved coordinates_scaled test data.\n",
      "Generating synthetic year_scaled data ...\n",
      "Saved year_scaled train data.\n",
      "Saved year_scaled tune data.\n",
      "Saved year_scaled test data.\n",
      "Generating synthetic DEM_scaled data ...\n",
      "Saved DEM_scaled train data.\n",
      "Saved DEM_scaled tune data.\n",
      "Saved DEM_scaled test data.\n",
      "Generating synthetic precip_scaled data ...\n",
      "Saved precip_scaled train data.\n",
      "Saved precip_scaled tune data.\n",
      "Saved precip_scaled test data.\n",
      "Generating synthetic PET_scaled data ...\n",
      "Saved PET_scaled train data.\n",
      "Saved PET_scaled tune data.\n",
      "Saved PET_scaled test data.\n"
     ]
    }
   ],
   "source": [
    "for param in parameter_list:\n",
    "    print('Generating synthetic', param, 'data ...')\n",
    "    for sub in subdirs:\n",
    "        file_name = 'SYNTHETIC_'+param+'_'+sub+'.npy'\n",
    "        file_path = os.path.join(data_dir, sub, file_name)\n",
    "        size = n_data[sub], sizes_dict[param][1:]\n",
    "        size = flatten_tuple(size)\n",
    "        data = np.random.rand(*size)\n",
    "        np.save(file_path, data, allow_pickle=False)\n",
    "        print('Saved', param, sub, 'data.')"
   ]
  },
  {
   "cell_type": "code",
   "execution_count": null,
   "id": "a3150173-4013-4a9f-9b40-88b7cb541fbb",
   "metadata": {},
   "outputs": [],
   "source": []
  }
 ],
 "metadata": {
  "kernelspec": {
   "display_name": "csiro",
   "language": "python",
   "name": "csiro"
  },
  "language_info": {
   "codemirror_mode": {
    "name": "ipython",
    "version": 3
   },
   "file_extension": ".py",
   "mimetype": "text/x-python",
   "name": "python",
   "nbconvert_exporter": "python",
   "pygments_lexer": "ipython3",
   "version": "3.12.1"
  }
 },
 "nbformat": 4,
 "nbformat_minor": 5
}
