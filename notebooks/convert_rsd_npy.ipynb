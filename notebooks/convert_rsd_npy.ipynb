{
 "cells": [
  {
   "cell_type": "markdown",
   "id": "5539e519-7f27-4467-9d35-13352edd407f",
   "metadata": {},
   "source": [
    "# Converting `.rds` files to `.npy` files\n",
    "\n",
    "In order to be compatable with PyTorch, the `.rds` files present at at [https://doi.org/10.25919/skw8-yx65](https://doi.org/10.25919/skw8-yx65) must be converted to `.npy` files. This notebook completes that conversion."
   ]
  },
  {
   "cell_type": "code",
   "execution_count": 23,
   "id": "e4dcdf6a-4a4f-45f7-a006-bac5046e959c",
   "metadata": {},
   "outputs": [],
   "source": [
    "import os\n",
    "import glob\n",
    "import numpy as np"
   ]
  },
  {
   "cell_type": "code",
   "execution_count": 2,
   "id": "f9303ae7-a9ab-4066-95bf-c3380fa23cbf",
   "metadata": {},
   "outputs": [],
   "source": [
    "import rpy2.robjects as robjects\n",
    "readRDS = robjects.r['readRDS']"
   ]
  },
  {
   "cell_type": "markdown",
   "id": "b9dbaec7-0ad5-49d5-b936-14e945291614",
   "metadata": {},
   "source": [
    "*A Note About Packages:* `rpy2` requires `R` to be installed as a dependency"
   ]
  },
  {
   "cell_type": "markdown",
   "id": "e05c3f73-2d60-4657-b2dc-57b247e2cf97",
   "metadata": {},
   "source": [
    "## Converting Data"
   ]
  },
  {
   "cell_type": "code",
   "execution_count": 3,
   "id": "55d02678-f4a0-44ce-a2d1-8c83b7b21a31",
   "metadata": {},
   "outputs": [
    {
     "data": {
      "text/plain": [
       "['PET_scaled',\n",
       " 'precip_scaled',\n",
       " 'GW_depth',\n",
       " 'year_scaled',\n",
       " 'DEM_scaled',\n",
       " 'coordinates_scaled']"
      ]
     },
     "execution_count": 3,
     "metadata": {},
     "output_type": "execute_result"
    }
   ],
   "source": [
    "R_data_dir = 'RDSdata'\n",
    "NPY_data_dir = 'NPYdata'\n",
    "subdirs = ['train', 'tune', 'test']\n",
    "files = glob.glob(os.path.join('.', R_data_dir, subdirs[0])+'/*')\n",
    "files = [os.path.basename(f).split('.')[0] for f in files]\n",
    "files = [f.split('_')[0] +'_'+ f.split('_')[1] for f in files]\n",
    "files"
   ]
  },
  {
   "cell_type": "code",
   "execution_count": 4,
   "id": "3f76cc26-e6c5-4351-954a-216f7956a56d",
   "metadata": {},
   "outputs": [
    {
     "name": "stdout",
     "output_type": "stream",
     "text": [
      "Attempting RDSdata/train/PET_scaled_train.rds\n",
      "Attempting RDSdata/train/precip_scaled_train.rds\n",
      "Attempting RDSdata/train/GW_depth_train.rds\n",
      "Attempting RDSdata/train/year_scaled_train.rds\n",
      "Attempting RDSdata/train/DEM_scaled_train.rds\n",
      "Attempting RDSdata/train/coordinates_scaled_train.rds\n",
      "Attempting RDSdata/tune/PET_scaled_tune.rds\n",
      "Attempting RDSdata/tune/precip_scaled_tune.rds\n",
      "Attempting RDSdata/tune/GW_depth_tune.rds\n",
      "Attempting RDSdata/tune/year_scaled_tune.rds\n",
      "Attempting RDSdata/tune/DEM_scaled_tune.rds\n",
      "Attempting RDSdata/tune/coordinates_scaled_tune.rds\n",
      "Attempting RDSdata/test/PET_scaled_test.rds\n",
      "Attempting RDSdata/test/precip_scaled_test.rds\n",
      "Attempting RDSdata/test/GW_depth_test.rds\n",
      "Attempting RDSdata/test/year_scaled_test.rds\n",
      "Attempting RDSdata/test/DEM_scaled_test.rds\n",
      "Attempting RDSdata/test/coordinates_scaled_test.rds\n",
      "Completed\n"
     ]
    }
   ],
   "source": [
    "readRDS = robjects.r['readRDS']\n",
    "for subdir in subdirs:\n",
    "    for file in files:\n",
    "        r_file = file + '_' + subdir + '.rds'\n",
    "        np_file = file + '_' + subdir + '.npy'\n",
    "        path = os.path.join(R_data_dir, subdir, r_file)\n",
    "        print('Attempting', path)\n",
    "        data = readRDS(path)\n",
    "        nparr= np.array(data)\n",
    "        np.save(os.path.join(NPY_data_dir, subdir, np_file), nparr, allow_pickle=False)\n",
    "\n",
    "print('Completed')"
   ]
  },
  {
   "cell_type": "markdown",
   "id": "9a4f72e8-f876-422d-8299-176c4a297e68",
   "metadata": {},
   "source": [
    "## Checking `.npy` files have same shapes as `.rds` files"
   ]
  },
  {
   "cell_type": "code",
   "execution_count": 15,
   "id": "695933d0-543b-48ec-8a7e-c593d1d2b2c0",
   "metadata": {},
   "outputs": [],
   "source": [
    "RDS_path = os.path.join('..', '..', 'RDSdata', 'train')\n",
    "NPY_path = os.path.join('..', '..', 'NPYdata', 'train')"
   ]
  },
  {
   "cell_type": "markdown",
   "id": "61eaffee-c8f3-49b5-b623-933d979d2a45",
   "metadata": {},
   "source": [
    "### GW Depth\n",
    "\n",
    "*Each entry contains the observed groundwater depth (in metres) at a well at a particular point in time.  This is a numeric vector object type, with length equal to the number of observations in the training set.*"
   ]
  },
  {
   "cell_type": "code",
   "execution_count": 22,
   "id": "91200fa1-882e-47e5-8eef-ac3628a202fe",
   "metadata": {},
   "outputs": [
    {
     "name": "stdout",
     "output_type": "stream",
     "text": [
      "RDS File Shape: (310143,)\n",
      "NPY File Shape: (310143,)\n"
     ]
    }
   ],
   "source": [
    "parameter = 'GW_depth'\n",
    "file = parameter + '_train'\n",
    "\n",
    "rds_file = readRDS(os.path.join(RDS_path, file)+'.rds')\n",
    "print('RDS File Shape:', np.shape(rds_file))\n",
    "npy_file = np.load(os.path.join(NPY_path, file)+'.npy')\n",
    "print('NPY File Shape:', npy_file.shape)"
   ]
  },
  {
   "cell_type": "markdown",
   "id": "a684d4d0-d835-4e91-afd6-fe8d2014aeb6",
   "metadata": {},
   "source": [
    "### Coordinate Scaled\n",
    "\n",
    "*This is a numeric matrix where each row corresponds to each groundwater observation and the columns are the normalised (using the range of values in the training set) latitude and longitude.*"
   ]
  },
  {
   "cell_type": "code",
   "execution_count": 21,
   "id": "e6f7e422-fc23-46c2-891d-ce9436417a01",
   "metadata": {},
   "outputs": [
    {
     "name": "stdout",
     "output_type": "stream",
     "text": [
      "RDS File Shape: (310143, 2)\n",
      "NPY File Shape: (310143, 2)\n"
     ]
    }
   ],
   "source": [
    "parameter = 'coordinates_scaled'\n",
    "file = parameter + '_train'\n",
    "\n",
    "rds_file = readRDS(os.path.join(RDS_path, file)+'.rds')\n",
    "print('RDS File Shape:', np.shape(rds_file))\n",
    "npy_file = np.load(os.path.join(NPY_path, file)+'.npy')\n",
    "print('NPY File Shape:', npy_file.shape)"
   ]
  },
  {
   "cell_type": "markdown",
   "id": "b67a6e56-b041-4833-9260-8d67866f0b86",
   "metadata": {},
   "source": [
    "### Year Scaled\n",
    "\n",
    "*This is a numeric matrix with a single column.  Each row corresponds to a groundwater observation and the single column contains the calendar year (using the range of values in the training set).*"
   ]
  },
  {
   "cell_type": "code",
   "execution_count": 24,
   "id": "542e840e-2d4f-41e1-9709-25b0704d8121",
   "metadata": {},
   "outputs": [
    {
     "name": "stdout",
     "output_type": "stream",
     "text": [
      "RDS File Shape: (310143, 1)\n",
      "NPY File Shape: (310143, 1)\n"
     ]
    }
   ],
   "source": [
    "parameter = 'year_scaled'\n",
    "file = parameter + '_train'\n",
    "\n",
    "rds_file = readRDS(os.path.join(RDS_path, file)+'.rds')\n",
    "print('RDS File Shape:', np.shape(rds_file))\n",
    "npy_file = np.load(os.path.join(NPY_path, file)+'.npy')\n",
    "print('NPY File Shape:', npy_file.shape)"
   ]
  },
  {
   "cell_type": "markdown",
   "id": "0e543a17-a5b0-4c7f-948e-0ddc60e14521",
   "metadata": {},
   "source": [
    "### DEM Scaled\n",
    "\n",
    "*This is an R array object with four dimensions (number of observations, 1, 9, 9).  The values in the array are normalised elevations for a 9 x 9 patch of pixels, centred around the groundwater observation.  Each pixel is 1500m x 1500m.  We can basically think of this as a tensor containing 9x9 pixel images with only 1 channel.*"
   ]
  },
  {
   "cell_type": "code",
   "execution_count": 25,
   "id": "9c31e3eb-c5cf-4bd9-bde5-edb1f2980e5d",
   "metadata": {},
   "outputs": [
    {
     "name": "stdout",
     "output_type": "stream",
     "text": [
      "RDS File Shape: (310143, 1, 9, 9)\n",
      "NPY File Shape: (310143, 1, 9, 9)\n"
     ]
    }
   ],
   "source": [
    "parameter = 'DEM_scaled'\n",
    "file = parameter + '_train'\n",
    "\n",
    "rds_file = readRDS(os.path.join(RDS_path, file)+'.rds')\n",
    "print('RDS File Shape:', np.shape(rds_file))\n",
    "npy_file = np.load(os.path.join(NPY_path, file)+'.npy')\n",
    "print('NPY File Shape:', npy_file.shape)"
   ]
  },
  {
   "cell_type": "markdown",
   "id": "57aedf87-00b8-4d12-b0a0-045545c8fa11",
   "metadata": {},
   "source": [
    "### Precip Scaled\n",
    "\n",
    "*This is an R array object with four dimensions (number of observations, 12, 9, 9).  The values in the array are normalised precipitation for a 9 x 9 patch of pixels over the preceding 12 months, and centred around the groundwater observation.  Each pixel is 1500m x 1500m.  We can basically think of this as a tensor containing 9x9 pixel images with 12 channels.*"
   ]
  },
  {
   "cell_type": "code",
   "execution_count": 26,
   "id": "8959fcc9-5e9b-44af-bd95-dc01ba702fea",
   "metadata": {},
   "outputs": [
    {
     "name": "stdout",
     "output_type": "stream",
     "text": [
      "RDS File Shape: (310143, 12, 9, 9)\n",
      "NPY File Shape: (310143, 12, 9, 9)\n"
     ]
    }
   ],
   "source": [
    "parameter = 'precip_scaled'\n",
    "file = parameter + '_train'\n",
    "\n",
    "rds_file = readRDS(os.path.join(RDS_path, file)+'.rds')\n",
    "print('RDS File Shape:', np.shape(rds_file))\n",
    "npy_file = np.load(os.path.join(NPY_path, file)+'.npy')\n",
    "print('NPY File Shape:', npy_file.shape)"
   ]
  },
  {
   "cell_type": "markdown",
   "id": "aac743f4-fd32-460f-8c0e-6acad36ea259",
   "metadata": {},
   "source": [
    "### PET Scaled\n",
    "\n",
    "*This is an R array object with four dimensions (number of observations, 12, 9, 9).  The values in the array are normalised potential evapo-transpiration for a 9 x 9 patch of pixels over the preceding 12 months, and centred around the groundwater observation.  Each pixel is 1500m x 1500m.  We can basically think of this as a tensor containing 9x9 pixel images with 12 channels.*"
   ]
  },
  {
   "cell_type": "code",
   "execution_count": 27,
   "id": "dcc9c01f-b9fb-426c-8c8a-e12782fdb3e2",
   "metadata": {},
   "outputs": [
    {
     "name": "stdout",
     "output_type": "stream",
     "text": [
      "RDS File Shape: (310143, 12, 9, 9)\n",
      "NPY File Shape: (310143, 12, 9, 9)\n"
     ]
    }
   ],
   "source": [
    "parameter = 'PET_scaled'\n",
    "file = parameter + '_train'\n",
    "\n",
    "rds_file = readRDS(os.path.join(RDS_path, file)+'.rds')\n",
    "print('RDS File Shape:', np.shape(rds_file))\n",
    "npy_file = np.load(os.path.join(NPY_path, file)+'.npy')\n",
    "print('NPY File Shape:', npy_file.shape)"
   ]
  }
 ],
 "metadata": {
  "kernelspec": {
   "display_name": "csiro",
   "language": "python",
   "name": "csiro"
  },
  "language_info": {
   "codemirror_mode": {
    "name": "ipython",
    "version": 3
   },
   "file_extension": ".py",
   "mimetype": "text/x-python",
   "name": "python",
   "nbconvert_exporter": "python",
   "pygments_lexer": "ipython3",
   "version": "3.12.1"
  }
 },
 "nbformat": 4,
 "nbformat_minor": 5
}
